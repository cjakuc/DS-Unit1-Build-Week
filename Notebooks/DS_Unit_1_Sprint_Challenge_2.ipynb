{
  "nbformat": 4,
  "nbformat_minor": 0,
  "metadata": {
    "colab": {
      "name": "DS_Unit_1_Sprint_Challenge_2.ipynb",
      "provenance": [],
      "collapsed_sections": [],
      "include_colab_link": true
    },
    "kernelspec": {
      "name": "python3",
      "display_name": "Python 3"
    }
  },
  "cells": [
    {
      "cell_type": "markdown",
      "metadata": {
        "id": "view-in-github",
        "colab_type": "text"
      },
      "source": [
        "<a href=\"https://colab.research.google.com/github/cjakuc/DS-Unit1-Build-Week/blob/master/Notebooks/DS_Unit_1_Sprint_Challenge_2.ipynb\" target=\"_parent\"><img src=\"https://colab.research.google.com/assets/colab-badge.svg\" alt=\"Open In Colab\"/></a>"
      ]
    },
    {
      "cell_type": "markdown",
      "metadata": {
        "id": "NooAiTdnafkz",
        "colab_type": "text"
      },
      "source": [
        "# Data Science Unit 1 Sprint Challenge 2\n",
        "\n",
        "## Exploring Data, Testing Hypotheses\n",
        "\n",
        "In this sprint challenge you will look at a dataset of people being approved or rejected for credit.\n",
        "\n",
        "https://archive.ics.uci.edu/ml/datasets/Credit+Approval\n",
        "\n",
        "Data Set Information: This file concerns credit card applications. All attribute names and values have been changed to meaningless symbols to protect confidentiality of the data. This dataset is interesting because there is a good mix of attributes -- continuous, nominal with small numbers of values, and nominal with larger numbers of values. There are also a few missing values.\n",
        "\n",
        "Attribute Information:\n",
        "- A1: b, a.\n",
        "- A2: continuous.\n",
        "- A3: continuous.\n",
        "- A4: u, y, l, t.\n",
        "- A5: g, p, gg.\n",
        "- A6: c, d, cc, i, j, k, m, r, q, w, x, e, aa, ff.\n",
        "- A7: v, h, bb, j, n, z, dd, ff, o.\n",
        "- A8: continuous.\n",
        "- A9: t, f.\n",
        "- A10: t, f.\n",
        "- A11: continuous.\n",
        "- A12: t, f.\n",
        "- A13: g, p, s.\n",
        "- A14: continuous.\n",
        "- A15: continuous.\n",
        "- A16: +,- (class attribute)\n",
        "\n",
        "Yes, most of that doesn't mean anything. A16 is a variable that indicates whether or not a person's request for credit has been approved or denied. This is a good candidate for a y variable since we might want to use the other features to predict this one. The remaining variables have been obfuscated for privacy - a challenge you may have to deal with in your data science career.\n",
        "\n",
        "Sprint challenges are evaluated based on satisfactory completion of each part. It is suggested you work through it in order, getting each aspect reasonably working, before trying to deeply explore, iterate, or refine any given step. Once you get to the end, if you want to go back and improve things, go for it!"
      ]
    },
    {
      "cell_type": "markdown",
      "metadata": {
        "id": "5wch6ksCbJtZ",
        "colab_type": "text"
      },
      "source": [
        "## Part 1 - Load and validate the data\n",
        "\n",
        "- Load the data as a `pandas` data frame.\n",
        "- Validate that it has the appropriate number of observations (you can check the raw file, and also read the dataset description from UCI).\n",
        "- UCI says there should be missing data - check, and if necessary change the data so pandas recognizes it as na\n",
        "- Make sure that the loaded features are of the types described above (continuous values should be treated as float), and correct as necessary\n",
        "\n",
        "This is review, but skills that you'll use at the start of any data exploration. Further, you may have to do some investigation to figure out which file to load from - that is part of the puzzle."
      ]
    },
    {
      "cell_type": "code",
      "metadata": {
        "id": "Q79xDLckzibS",
        "colab_type": "code",
        "outputId": "6d9cafba-4c31-4277-e8b7-98f57a61d07a",
        "colab": {
          "base_uri": "https://localhost:8080/",
          "height": 34
        }
      },
      "source": [
        "import pandas as pd\n",
        "df = pd.read_csv(\"https://archive.ics.uci.edu/ml/machine-learning-databases/credit-screening/crx.data\",\n",
        "                 header=None,\n",
        "                 names=['A1','A2','A3','A4','A5','A6','A7','A8','A9','A10','A11',\n",
        "                        'A12','A13','A14','A15','A16'])\n",
        "df.shape"
      ],
      "execution_count": 0,
      "outputs": [
        {
          "output_type": "execute_result",
          "data": {
            "text/plain": [
              "(690, 16)"
            ]
          },
          "metadata": {
            "tags": []
          },
          "execution_count": 3
        }
      ]
    },
    {
      "cell_type": "code",
      "metadata": {
        "id": "SBkySfc2Siv9",
        "colab_type": "code",
        "outputId": "f5c576b6-d1d6-4b73-a401-4c648ab161fa",
        "colab": {
          "base_uri": "https://localhost:8080/",
          "height": 204
        }
      },
      "source": [
        "df.head()"
      ],
      "execution_count": 0,
      "outputs": [
        {
          "output_type": "execute_result",
          "data": {
            "text/html": [
              "<div>\n",
              "<style scoped>\n",
              "    .dataframe tbody tr th:only-of-type {\n",
              "        vertical-align: middle;\n",
              "    }\n",
              "\n",
              "    .dataframe tbody tr th {\n",
              "        vertical-align: top;\n",
              "    }\n",
              "\n",
              "    .dataframe thead th {\n",
              "        text-align: right;\n",
              "    }\n",
              "</style>\n",
              "<table border=\"1\" class=\"dataframe\">\n",
              "  <thead>\n",
              "    <tr style=\"text-align: right;\">\n",
              "      <th></th>\n",
              "      <th>A1</th>\n",
              "      <th>A2</th>\n",
              "      <th>A3</th>\n",
              "      <th>A4</th>\n",
              "      <th>A5</th>\n",
              "      <th>A6</th>\n",
              "      <th>A7</th>\n",
              "      <th>A8</th>\n",
              "      <th>A9</th>\n",
              "      <th>A10</th>\n",
              "      <th>A11</th>\n",
              "      <th>A12</th>\n",
              "      <th>A13</th>\n",
              "      <th>A14</th>\n",
              "      <th>A15</th>\n",
              "      <th>A16</th>\n",
              "    </tr>\n",
              "  </thead>\n",
              "  <tbody>\n",
              "    <tr>\n",
              "      <th>0</th>\n",
              "      <td>b</td>\n",
              "      <td>30.83</td>\n",
              "      <td>0.000</td>\n",
              "      <td>u</td>\n",
              "      <td>g</td>\n",
              "      <td>w</td>\n",
              "      <td>v</td>\n",
              "      <td>1.25</td>\n",
              "      <td>t</td>\n",
              "      <td>t</td>\n",
              "      <td>1</td>\n",
              "      <td>f</td>\n",
              "      <td>g</td>\n",
              "      <td>00202</td>\n",
              "      <td>0</td>\n",
              "      <td>+</td>\n",
              "    </tr>\n",
              "    <tr>\n",
              "      <th>1</th>\n",
              "      <td>a</td>\n",
              "      <td>58.67</td>\n",
              "      <td>4.460</td>\n",
              "      <td>u</td>\n",
              "      <td>g</td>\n",
              "      <td>q</td>\n",
              "      <td>h</td>\n",
              "      <td>3.04</td>\n",
              "      <td>t</td>\n",
              "      <td>t</td>\n",
              "      <td>6</td>\n",
              "      <td>f</td>\n",
              "      <td>g</td>\n",
              "      <td>00043</td>\n",
              "      <td>560</td>\n",
              "      <td>+</td>\n",
              "    </tr>\n",
              "    <tr>\n",
              "      <th>2</th>\n",
              "      <td>a</td>\n",
              "      <td>24.50</td>\n",
              "      <td>0.500</td>\n",
              "      <td>u</td>\n",
              "      <td>g</td>\n",
              "      <td>q</td>\n",
              "      <td>h</td>\n",
              "      <td>1.50</td>\n",
              "      <td>t</td>\n",
              "      <td>f</td>\n",
              "      <td>0</td>\n",
              "      <td>f</td>\n",
              "      <td>g</td>\n",
              "      <td>00280</td>\n",
              "      <td>824</td>\n",
              "      <td>+</td>\n",
              "    </tr>\n",
              "    <tr>\n",
              "      <th>3</th>\n",
              "      <td>b</td>\n",
              "      <td>27.83</td>\n",
              "      <td>1.540</td>\n",
              "      <td>u</td>\n",
              "      <td>g</td>\n",
              "      <td>w</td>\n",
              "      <td>v</td>\n",
              "      <td>3.75</td>\n",
              "      <td>t</td>\n",
              "      <td>t</td>\n",
              "      <td>5</td>\n",
              "      <td>t</td>\n",
              "      <td>g</td>\n",
              "      <td>00100</td>\n",
              "      <td>3</td>\n",
              "      <td>+</td>\n",
              "    </tr>\n",
              "    <tr>\n",
              "      <th>4</th>\n",
              "      <td>b</td>\n",
              "      <td>20.17</td>\n",
              "      <td>5.625</td>\n",
              "      <td>u</td>\n",
              "      <td>g</td>\n",
              "      <td>w</td>\n",
              "      <td>v</td>\n",
              "      <td>1.71</td>\n",
              "      <td>t</td>\n",
              "      <td>f</td>\n",
              "      <td>0</td>\n",
              "      <td>f</td>\n",
              "      <td>s</td>\n",
              "      <td>00120</td>\n",
              "      <td>0</td>\n",
              "      <td>+</td>\n",
              "    </tr>\n",
              "  </tbody>\n",
              "</table>\n",
              "</div>"
            ],
            "text/plain": [
              "  A1     A2     A3 A4 A5 A6 A7    A8 A9 A10  A11 A12 A13    A14  A15 A16\n",
              "0  b  30.83  0.000  u  g  w  v  1.25  t   t    1   f   g  00202    0   +\n",
              "1  a  58.67  4.460  u  g  q  h  3.04  t   t    6   f   g  00043  560   +\n",
              "2  a  24.50  0.500  u  g  q  h  1.50  t   f    0   f   g  00280  824   +\n",
              "3  b  27.83  1.540  u  g  w  v  3.75  t   t    5   t   g  00100    3   +\n",
              "4  b  20.17  5.625  u  g  w  v  1.71  t   f    0   f   s  00120    0   +"
            ]
          },
          "metadata": {
            "tags": []
          },
          "execution_count": 4
        }
      ]
    },
    {
      "cell_type": "code",
      "metadata": {
        "id": "PpDzEvxySqGc",
        "colab_type": "code",
        "outputId": "11c15bb3-007c-48d7-ceed-b3986c71cad9",
        "colab": {
          "base_uri": "https://localhost:8080/",
          "height": 306
        }
      },
      "source": [
        "# Checking to see if there are null values because we expect to see them\n",
        "df.isnull().sum()"
      ],
      "execution_count": 0,
      "outputs": [
        {
          "output_type": "execute_result",
          "data": {
            "text/plain": [
              "A1     0\n",
              "A2     0\n",
              "A3     0\n",
              "A4     0\n",
              "A5     0\n",
              "A6     0\n",
              "A7     0\n",
              "A8     0\n",
              "A9     0\n",
              "A10    0\n",
              "A11    0\n",
              "A12    0\n",
              "A13    0\n",
              "A14    0\n",
              "A15    0\n",
              "A16    0\n",
              "dtype: int64"
            ]
          },
          "metadata": {
            "tags": []
          },
          "execution_count": 34
        }
      ]
    },
    {
      "cell_type": "code",
      "metadata": {
        "id": "VE4XL4ybS0m3",
        "colab_type": "code",
        "outputId": "d192910a-8433-4cb4-8948-379cb6f9a941",
        "colab": {
          "base_uri": "https://localhost:8080/",
          "height": 85
        }
      },
      "source": [
        "# Check the first column to see if anything jumps out that could be\n",
        "# a missing value\n",
        "df['A1'].value_counts()"
      ],
      "execution_count": 0,
      "outputs": [
        {
          "output_type": "execute_result",
          "data": {
            "text/plain": [
              "b    468\n",
              "a    210\n",
              "?     12\n",
              "Name: A1, dtype: int64"
            ]
          },
          "metadata": {
            "tags": []
          },
          "execution_count": 35
        }
      ]
    },
    {
      "cell_type": "code",
      "metadata": {
        "id": "GPutbxInTH6D",
        "colab_type": "code",
        "outputId": "6e27fafb-a692-4023-cd63-e1dccf73677f",
        "colab": {
          "base_uri": "https://localhost:8080/",
          "height": 1000
        }
      },
      "source": [
        "# Check the rest of the variables to see if the actual values match the\n",
        "# expected values talked about in the attribute table\n",
        "print(df['A2'].describe())\n",
        "print(df['A3'].describe())\n",
        "print(df['A4'].value_counts())\n",
        "print(df['A5'].value_counts())\n",
        "print(df['A6'].value_counts())\n",
        "print(df['A7'].value_counts())\n",
        "print(df['A8'].describe())\n",
        "print(df['A9'].value_counts())\n",
        "print(df['A10'].value_counts())\n",
        "print(df['A11'].describe())\n",
        "print(df['A12'].value_counts())\n",
        "print(df['A13'].value_counts())\n",
        "print(df['A14'].describe())\n",
        "print(df['A15'].describe())\n",
        "print(df['A16'].value_counts())"
      ],
      "execution_count": 0,
      "outputs": [
        {
          "output_type": "stream",
          "text": [
            "count     690\n",
            "unique    350\n",
            "top         ?\n",
            "freq       12\n",
            "Name: A2, dtype: object\n",
            "count    690.000000\n",
            "mean       4.758725\n",
            "std        4.978163\n",
            "min        0.000000\n",
            "25%        1.000000\n",
            "50%        2.750000\n",
            "75%        7.207500\n",
            "max       28.000000\n",
            "Name: A3, dtype: float64\n",
            "u    519\n",
            "y    163\n",
            "?      6\n",
            "l      2\n",
            "Name: A4, dtype: int64\n",
            "g     519\n",
            "p     163\n",
            "?       6\n",
            "gg      2\n",
            "Name: A5, dtype: int64\n",
            "c     137\n",
            "q      78\n",
            "w      64\n",
            "i      59\n",
            "aa     54\n",
            "ff     53\n",
            "k      51\n",
            "cc     41\n",
            "x      38\n",
            "m      38\n",
            "d      30\n",
            "e      25\n",
            "j      10\n",
            "?       9\n",
            "r       3\n",
            "Name: A6, dtype: int64\n",
            "v     399\n",
            "h     138\n",
            "bb     59\n",
            "ff     57\n",
            "?       9\n",
            "j       8\n",
            "z       8\n",
            "dd      6\n",
            "n       4\n",
            "o       2\n",
            "Name: A7, dtype: int64\n",
            "count    690.000000\n",
            "mean       2.223406\n",
            "std        3.346513\n",
            "min        0.000000\n",
            "25%        0.165000\n",
            "50%        1.000000\n",
            "75%        2.625000\n",
            "max       28.500000\n",
            "Name: A8, dtype: float64\n",
            "t    361\n",
            "f    329\n",
            "Name: A9, dtype: int64\n",
            "f    395\n",
            "t    295\n",
            "Name: A10, dtype: int64\n",
            "count    690.00000\n",
            "mean       2.40000\n",
            "std        4.86294\n",
            "min        0.00000\n",
            "25%        0.00000\n",
            "50%        0.00000\n",
            "75%        3.00000\n",
            "max       67.00000\n",
            "Name: A11, dtype: float64\n",
            "f    374\n",
            "t    316\n",
            "Name: A12, dtype: int64\n",
            "g    625\n",
            "s     57\n",
            "p      8\n",
            "Name: A13, dtype: int64\n",
            "count       690\n",
            "unique      171\n",
            "top       00000\n",
            "freq        132\n",
            "Name: A14, dtype: object\n",
            "count       690.000000\n",
            "mean       1017.385507\n",
            "std        5210.102598\n",
            "min           0.000000\n",
            "25%           0.000000\n",
            "50%           5.000000\n",
            "75%         395.500000\n",
            "max      100000.000000\n",
            "Name: A15, dtype: float64\n",
            "-    383\n",
            "+    307\n",
            "Name: A16, dtype: int64\n"
          ],
          "name": "stdout"
        }
      ]
    },
    {
      "cell_type": "code",
      "metadata": {
        "id": "V7AZ1jbQYHyK",
        "colab_type": "code",
        "outputId": "07e28904-01c3-4fe2-8bcd-5802f11c4f6e",
        "colab": {
          "base_uri": "https://localhost:8080/",
          "height": 306
        }
      },
      "source": [
        "# Check the data types of each variable to see if they match the expected\n",
        "# attributes\n",
        "df.dtypes"
      ],
      "execution_count": 0,
      "outputs": [
        {
          "output_type": "execute_result",
          "data": {
            "text/plain": [
              "A1      object\n",
              "A2      object\n",
              "A3     float64\n",
              "A4      object\n",
              "A5      object\n",
              "A6      object\n",
              "A7      object\n",
              "A8     float64\n",
              "A9      object\n",
              "A10     object\n",
              "A11      int64\n",
              "A12     object\n",
              "A13     object\n",
              "A14     object\n",
              "A15      int64\n",
              "A16     object\n",
              "dtype: object"
            ]
          },
          "metadata": {
            "tags": []
          },
          "execution_count": 37
        }
      ]
    },
    {
      "cell_type": "code",
      "metadata": {
        "id": "hIn8lZbUS-wX",
        "colab_type": "code",
        "colab": {}
      },
      "source": [
        "# Replace the '?'s with NaNs except in the case of A4\n",
        "# Convert the continuous variables to floats where necessary\n",
        "import numpy as np\n",
        "\n",
        "# I chose to replace '?' with 't' in A4 because it was an expected value that\n",
        "# was missing from this column. I could've also replaced it with NaNs\n",
        "df['A4'] = df['A4'].replace({'?':'t'})\n",
        "df = df.replace({'?':np.NaN})\n",
        "df['A2'] = df['A2'].astype(float)\n",
        "df['A11'] = df['A11'].astype(float)\n",
        "df['A14'] = df['A14'].astype(float)\n",
        "df['A15'] = df['A15'].astype(float)"
      ],
      "execution_count": 0,
      "outputs": []
    },
    {
      "cell_type": "code",
      "metadata": {
        "id": "8xPAOBoKaQ1D",
        "colab_type": "code",
        "outputId": "c1d6bca4-b607-48bd-b0d9-d0a6fa05f59c",
        "colab": {
          "base_uri": "https://localhost:8080/",
          "height": 306
        }
      },
      "source": [
        "# Confirm that null values (NaNs) are now in the dataset\n",
        "df.isnull().sum()"
      ],
      "execution_count": 0,
      "outputs": [
        {
          "output_type": "execute_result",
          "data": {
            "text/plain": [
              "A1     12\n",
              "A2     12\n",
              "A3      0\n",
              "A4      0\n",
              "A5      6\n",
              "A6      9\n",
              "A7      9\n",
              "A8      0\n",
              "A9      0\n",
              "A10     0\n",
              "A11     0\n",
              "A12     0\n",
              "A13     0\n",
              "A14    13\n",
              "A15     0\n",
              "A16     0\n",
              "dtype: int64"
            ]
          },
          "metadata": {
            "tags": []
          },
          "execution_count": 43
        }
      ]
    },
    {
      "cell_type": "code",
      "metadata": {
        "id": "NkcIS0kjaTQz",
        "colab_type": "code",
        "outputId": "cc3dae35-d5e8-4bc2-ac54-16f60dd53649",
        "colab": {
          "base_uri": "https://localhost:8080/",
          "height": 306
        }
      },
      "source": [
        "# Confirm that the data types are correct\n",
        "df.dtypes"
      ],
      "execution_count": 0,
      "outputs": [
        {
          "output_type": "execute_result",
          "data": {
            "text/plain": [
              "A1      object\n",
              "A2     float64\n",
              "A3     float64\n",
              "A4      object\n",
              "A5      object\n",
              "A6      object\n",
              "A7      object\n",
              "A8     float64\n",
              "A9      object\n",
              "A10     object\n",
              "A11    float64\n",
              "A12     object\n",
              "A13     object\n",
              "A14    float64\n",
              "A15    float64\n",
              "A16     object\n",
              "dtype: object"
            ]
          },
          "metadata": {
            "tags": []
          },
          "execution_count": 44
        }
      ]
    },
    {
      "cell_type": "markdown",
      "metadata": {
        "id": "G7rLytbrO38L",
        "colab_type": "text"
      },
      "source": [
        "## Part 2 - Exploring data, Testing hypotheses\n",
        "\n",
        "The only thing we really know about this data is that A16 is the class label. Besides that, we have 6 continuous (float) features and 9 categorical features.\n",
        "\n",
        "Explore the data: you can use whatever approach (tables, utility functions, visualizations) to get an impression of the distributions and relationships of the variables. In general, your goal is to understand how the features are different when grouped by the two class labels (`+` and `-`).\n",
        "\n",
        "For the 6 continuous features, how are they different when split between the two class labels? Choose two features to run t-tests (again split by class label) - specifically, select one feature that is *extremely* different between the classes, and another feature that is notably less different (though perhaps still \"statistically significantly\" different). You may have to explore more than two features to do this.\n",
        "\n",
        "For the categorical features, explore by creating \"cross tabs\" (aka [contingency tables](https://en.wikipedia.org/wiki/Contingency_table)) between them and the class label, and apply the Chi-squared test to them. [pandas.crosstab](http://pandas.pydata.org/pandas-docs/stable/reference/api/pandas.crosstab.html) can create contingency tables, and [scipy.stats.chi2_contingency](https://docs.scipy.org/doc/scipy/reference/generated/scipy.stats.chi2_contingency.html) can calculate the Chi-squared statistic for them.\n",
        "\n",
        "There are 9 categorical features - as with the t-test, try to find one where the Chi-squared test returns an extreme result (rejecting the null that the data are independent), and one where it is less extreme.\n",
        "\n",
        "**NOTE** - \"less extreme\" just means smaller test statistic/larger p-value. Even the least extreme differences may be strongly statistically significant.\n",
        "\n",
        "Your *main* goal is the hypothesis tests, so don't spend too much time on the exploration/visualization piece. That is just a means to an end - use simple visualizations, such as boxplots or a scatter matrix (both built in to pandas), to get a feel for the overall distribution of the variables.\n",
        "\n",
        "This is challenging, so manage your time and aim for a baseline of at least running two t-tests and two Chi-squared tests before polishing. And don't forget to answer the questions in part 3, even if your results in this part aren't what you want them to be."
      ]
    },
    {
      "cell_type": "markdown",
      "metadata": {
        "id": "LMrKuXUGcgJ3",
        "colab_type": "text"
      },
      "source": [
        "## Exploring the continuous features when splitting between the two class labels:"
      ]
    },
    {
      "cell_type": "code",
      "metadata": {
        "id": "MOu0So3ai4bI",
        "colab_type": "code",
        "colab": {}
      },
      "source": [
        "# Create conditions for the two values of the class label\n",
        "cond_pos = df['A16']=='+'\n",
        "cond_neg = df['A16']=='-'"
      ],
      "execution_count": 0,
      "outputs": []
    },
    {
      "cell_type": "code",
      "metadata": {
        "id": "orzIlFa9jd-X",
        "colab_type": "code",
        "outputId": "cc79b670-ef8b-493d-dc25-a812fcb7bd92",
        "colab": {
          "base_uri": "https://localhost:8080/",
          "height": 166
        }
      },
      "source": [
        "# Create a correlation matrix of the continuous variables\n",
        "# for when the class label = '+'\n",
        "corr_pos = df[cond_pos].corr()\n",
        "corr_pos.style.background_gradient(cmap='coolwarm')"
      ],
      "execution_count": 0,
      "outputs": [
        {
          "output_type": "execute_result",
          "data": {
            "text/html": [
              "<style  type=\"text/css\" >\n",
              "    #T_d5ba6ac6_3ecd_11ea_88c0_0242ac1c0002row0_col0 {\n",
              "            background-color:  #b40426;\n",
              "            color:  #f1f1f1;\n",
              "        }    #T_d5ba6ac6_3ecd_11ea_88c0_0242ac1c0002row0_col1 {\n",
              "            background-color:  #c9d7f0;\n",
              "            color:  #000000;\n",
              "        }    #T_d5ba6ac6_3ecd_11ea_88c0_0242ac1c0002row0_col2 {\n",
              "            background-color:  #e5d8d1;\n",
              "            color:  #000000;\n",
              "        }    #T_d5ba6ac6_3ecd_11ea_88c0_0242ac1c0002row0_col3 {\n",
              "            background-color:  #96b7ff;\n",
              "            color:  #000000;\n",
              "        }    #T_d5ba6ac6_3ecd_11ea_88c0_0242ac1c0002row0_col4 {\n",
              "            background-color:  #6b8df0;\n",
              "            color:  #000000;\n",
              "        }    #T_d5ba6ac6_3ecd_11ea_88c0_0242ac1c0002row0_col5 {\n",
              "            background-color:  #3b4cc0;\n",
              "            color:  #f1f1f1;\n",
              "        }    #T_d5ba6ac6_3ecd_11ea_88c0_0242ac1c0002row1_col0 {\n",
              "            background-color:  #a7c5fe;\n",
              "            color:  #000000;\n",
              "        }    #T_d5ba6ac6_3ecd_11ea_88c0_0242ac1c0002row1_col1 {\n",
              "            background-color:  #b40426;\n",
              "            color:  #f1f1f1;\n",
              "        }    #T_d5ba6ac6_3ecd_11ea_88c0_0242ac1c0002row1_col2 {\n",
              "            background-color:  #d6dce4;\n",
              "            color:  #000000;\n",
              "        }    #T_d5ba6ac6_3ecd_11ea_88c0_0242ac1c0002row1_col3 {\n",
              "            background-color:  #afcafc;\n",
              "            color:  #000000;\n",
              "        }    #T_d5ba6ac6_3ecd_11ea_88c0_0242ac1c0002row1_col4 {\n",
              "            background-color:  #3b4cc0;\n",
              "            color:  #f1f1f1;\n",
              "        }    #T_d5ba6ac6_3ecd_11ea_88c0_0242ac1c0002row1_col5 {\n",
              "            background-color:  #5f7fe8;\n",
              "            color:  #000000;\n",
              "        }    #T_d5ba6ac6_3ecd_11ea_88c0_0242ac1c0002row2_col0 {\n",
              "            background-color:  #dfdbd9;\n",
              "            color:  #000000;\n",
              "        }    #T_d5ba6ac6_3ecd_11ea_88c0_0242ac1c0002row2_col1 {\n",
              "            background-color:  #e5d8d1;\n",
              "            color:  #000000;\n",
              "        }    #T_d5ba6ac6_3ecd_11ea_88c0_0242ac1c0002row2_col2 {\n",
              "            background-color:  #b40426;\n",
              "            color:  #f1f1f1;\n",
              "        }    #T_d5ba6ac6_3ecd_11ea_88c0_0242ac1c0002row2_col3 {\n",
              "            background-color:  #afcafc;\n",
              "            color:  #000000;\n",
              "        }    #T_d5ba6ac6_3ecd_11ea_88c0_0242ac1c0002row2_col4 {\n",
              "            background-color:  #5b7ae5;\n",
              "            color:  #000000;\n",
              "        }    #T_d5ba6ac6_3ecd_11ea_88c0_0242ac1c0002row2_col5 {\n",
              "            background-color:  #3d50c3;\n",
              "            color:  #f1f1f1;\n",
              "        }    #T_d5ba6ac6_3ecd_11ea_88c0_0242ac1c0002row3_col0 {\n",
              "            background-color:  #97b8ff;\n",
              "            color:  #000000;\n",
              "        }    #T_d5ba6ac6_3ecd_11ea_88c0_0242ac1c0002row3_col1 {\n",
              "            background-color:  #cfdaea;\n",
              "            color:  #000000;\n",
              "        }    #T_d5ba6ac6_3ecd_11ea_88c0_0242ac1c0002row3_col2 {\n",
              "            background-color:  #bad0f8;\n",
              "            color:  #000000;\n",
              "        }    #T_d5ba6ac6_3ecd_11ea_88c0_0242ac1c0002row3_col3 {\n",
              "            background-color:  #b40426;\n",
              "            color:  #f1f1f1;\n",
              "        }    #T_d5ba6ac6_3ecd_11ea_88c0_0242ac1c0002row3_col4 {\n",
              "            background-color:  #6b8df0;\n",
              "            color:  #000000;\n",
              "        }    #T_d5ba6ac6_3ecd_11ea_88c0_0242ac1c0002row3_col5 {\n",
              "            background-color:  #3b4cc0;\n",
              "            color:  #f1f1f1;\n",
              "        }    #T_d5ba6ac6_3ecd_11ea_88c0_0242ac1c0002row4_col0 {\n",
              "            background-color:  #3b4cc0;\n",
              "            color:  #f1f1f1;\n",
              "        }    #T_d5ba6ac6_3ecd_11ea_88c0_0242ac1c0002row4_col1 {\n",
              "            background-color:  #3b4cc0;\n",
              "            color:  #f1f1f1;\n",
              "        }    #T_d5ba6ac6_3ecd_11ea_88c0_0242ac1c0002row4_col2 {\n",
              "            background-color:  #3b4cc0;\n",
              "            color:  #f1f1f1;\n",
              "        }    #T_d5ba6ac6_3ecd_11ea_88c0_0242ac1c0002row4_col3 {\n",
              "            background-color:  #3b4cc0;\n",
              "            color:  #f1f1f1;\n",
              "        }    #T_d5ba6ac6_3ecd_11ea_88c0_0242ac1c0002row4_col4 {\n",
              "            background-color:  #b40426;\n",
              "            color:  #f1f1f1;\n",
              "        }    #T_d5ba6ac6_3ecd_11ea_88c0_0242ac1c0002row4_col5 {\n",
              "            background-color:  #688aef;\n",
              "            color:  #000000;\n",
              "        }    #T_d5ba6ac6_3ecd_11ea_88c0_0242ac1c0002row5_col0 {\n",
              "            background-color:  #5a78e4;\n",
              "            color:  #000000;\n",
              "        }    #T_d5ba6ac6_3ecd_11ea_88c0_0242ac1c0002row5_col1 {\n",
              "            background-color:  #a9c6fd;\n",
              "            color:  #000000;\n",
              "        }    #T_d5ba6ac6_3ecd_11ea_88c0_0242ac1c0002row5_col2 {\n",
              "            background-color:  #6b8df0;\n",
              "            color:  #000000;\n",
              "        }    #T_d5ba6ac6_3ecd_11ea_88c0_0242ac1c0002row5_col3 {\n",
              "            background-color:  #5977e3;\n",
              "            color:  #000000;\n",
              "        }    #T_d5ba6ac6_3ecd_11ea_88c0_0242ac1c0002row5_col4 {\n",
              "            background-color:  #afcafc;\n",
              "            color:  #000000;\n",
              "        }    #T_d5ba6ac6_3ecd_11ea_88c0_0242ac1c0002row5_col5 {\n",
              "            background-color:  #b40426;\n",
              "            color:  #f1f1f1;\n",
              "        }</style><table id=\"T_d5ba6ac6_3ecd_11ea_88c0_0242ac1c0002\" ><thead>    <tr>        <th class=\"blank level0\" ></th>        <th class=\"col_heading level0 col0\" >A2</th>        <th class=\"col_heading level0 col1\" >A3</th>        <th class=\"col_heading level0 col2\" >A8</th>        <th class=\"col_heading level0 col3\" >A11</th>        <th class=\"col_heading level0 col4\" >A14</th>        <th class=\"col_heading level0 col5\" >A15</th>    </tr></thead><tbody>\n",
              "                <tr>\n",
              "                        <th id=\"T_d5ba6ac6_3ecd_11ea_88c0_0242ac1c0002level0_row0\" class=\"row_heading level0 row0\" >A2</th>\n",
              "                        <td id=\"T_d5ba6ac6_3ecd_11ea_88c0_0242ac1c0002row0_col0\" class=\"data row0 col0\" >1</td>\n",
              "                        <td id=\"T_d5ba6ac6_3ecd_11ea_88c0_0242ac1c0002row0_col1\" class=\"data row0 col1\" >0.242018</td>\n",
              "                        <td id=\"T_d5ba6ac6_3ecd_11ea_88c0_0242ac1c0002row0_col2\" class=\"data row0 col2\" >0.448193</td>\n",
              "                        <td id=\"T_d5ba6ac6_3ecd_11ea_88c0_0242ac1c0002row0_col3\" class=\"data row0 col3\" >0.188323</td>\n",
              "                        <td id=\"T_d5ba6ac6_3ecd_11ea_88c0_0242ac1c0002row0_col4\" class=\"data row0 col4\" >-0.126338</td>\n",
              "                        <td id=\"T_d5ba6ac6_3ecd_11ea_88c0_0242ac1c0002row0_col5\" class=\"data row0 col5\" >-0.0115958</td>\n",
              "            </tr>\n",
              "            <tr>\n",
              "                        <th id=\"T_d5ba6ac6_3ecd_11ea_88c0_0242ac1c0002level0_row1\" class=\"row_heading level0 row1\" >A3</th>\n",
              "                        <td id=\"T_d5ba6ac6_3ecd_11ea_88c0_0242ac1c0002row1_col0\" class=\"data row1 col0\" >0.242018</td>\n",
              "                        <td id=\"T_d5ba6ac6_3ecd_11ea_88c0_0242ac1c0002row1_col1\" class=\"data row1 col1\" >1</td>\n",
              "                        <td id=\"T_d5ba6ac6_3ecd_11ea_88c0_0242ac1c0002row1_col2\" class=\"data row1 col2\" >0.37964</td>\n",
              "                        <td id=\"T_d5ba6ac6_3ecd_11ea_88c0_0242ac1c0002row1_col3\" class=\"data row1 col3\" >0.270734</td>\n",
              "                        <td id=\"T_d5ba6ac6_3ecd_11ea_88c0_0242ac1c0002row1_col4\" class=\"data row1 col4\" >-0.328795</td>\n",
              "                        <td id=\"T_d5ba6ac6_3ecd_11ea_88c0_0242ac1c0002row1_col5\" class=\"data row1 col5\" >0.110576</td>\n",
              "            </tr>\n",
              "            <tr>\n",
              "                        <th id=\"T_d5ba6ac6_3ecd_11ea_88c0_0242ac1c0002level0_row2\" class=\"row_heading level0 row2\" >A8</th>\n",
              "                        <td id=\"T_d5ba6ac6_3ecd_11ea_88c0_0242ac1c0002row2_col0\" class=\"data row2 col0\" >0.448193</td>\n",
              "                        <td id=\"T_d5ba6ac6_3ecd_11ea_88c0_0242ac1c0002row2_col1\" class=\"data row2 col1\" >0.37964</td>\n",
              "                        <td id=\"T_d5ba6ac6_3ecd_11ea_88c0_0242ac1c0002row2_col2\" class=\"data row2 col2\" >1</td>\n",
              "                        <td id=\"T_d5ba6ac6_3ecd_11ea_88c0_0242ac1c0002row2_col3\" class=\"data row2 col3\" >0.268358</td>\n",
              "                        <td id=\"T_d5ba6ac6_3ecd_11ea_88c0_0242ac1c0002row2_col4\" class=\"data row2 col4\" >-0.184369</td>\n",
              "                        <td id=\"T_d5ba6ac6_3ecd_11ea_88c0_0242ac1c0002row2_col5\" class=\"data row2 col5\" >-0.0013668</td>\n",
              "            </tr>\n",
              "            <tr>\n",
              "                        <th id=\"T_d5ba6ac6_3ecd_11ea_88c0_0242ac1c0002level0_row3\" class=\"row_heading level0 row3\" >A11</th>\n",
              "                        <td id=\"T_d5ba6ac6_3ecd_11ea_88c0_0242ac1c0002row3_col0\" class=\"data row3 col0\" >0.188323</td>\n",
              "                        <td id=\"T_d5ba6ac6_3ecd_11ea_88c0_0242ac1c0002row3_col1\" class=\"data row3 col1\" >0.270734</td>\n",
              "                        <td id=\"T_d5ba6ac6_3ecd_11ea_88c0_0242ac1c0002row3_col2\" class=\"data row3 col2\" >0.268358</td>\n",
              "                        <td id=\"T_d5ba6ac6_3ecd_11ea_88c0_0242ac1c0002row3_col3\" class=\"data row3 col3\" >1</td>\n",
              "                        <td id=\"T_d5ba6ac6_3ecd_11ea_88c0_0242ac1c0002row3_col4\" class=\"data row3 col4\" >-0.121698</td>\n",
              "                        <td id=\"T_d5ba6ac6_3ecd_11ea_88c0_0242ac1c0002row3_col5\" class=\"data row3 col5\" >-0.0094222</td>\n",
              "            </tr>\n",
              "            <tr>\n",
              "                        <th id=\"T_d5ba6ac6_3ecd_11ea_88c0_0242ac1c0002level0_row4\" class=\"row_heading level0 row4\" >A14</th>\n",
              "                        <td id=\"T_d5ba6ac6_3ecd_11ea_88c0_0242ac1c0002row4_col0\" class=\"data row4 col0\" >-0.126338</td>\n",
              "                        <td id=\"T_d5ba6ac6_3ecd_11ea_88c0_0242ac1c0002row4_col1\" class=\"data row4 col1\" >-0.328795</td>\n",
              "                        <td id=\"T_d5ba6ac6_3ecd_11ea_88c0_0242ac1c0002row4_col2\" class=\"data row4 col2\" >-0.184369</td>\n",
              "                        <td id=\"T_d5ba6ac6_3ecd_11ea_88c0_0242ac1c0002row4_col3\" class=\"data row4 col3\" >-0.121698</td>\n",
              "                        <td id=\"T_d5ba6ac6_3ecd_11ea_88c0_0242ac1c0002row4_col4\" class=\"data row4 col4\" >1</td>\n",
              "                        <td id=\"T_d5ba6ac6_3ecd_11ea_88c0_0242ac1c0002row4_col5\" class=\"data row4 col5\" >0.136104</td>\n",
              "            </tr>\n",
              "            <tr>\n",
              "                        <th id=\"T_d5ba6ac6_3ecd_11ea_88c0_0242ac1c0002level0_row5\" class=\"row_heading level0 row5\" >A15</th>\n",
              "                        <td id=\"T_d5ba6ac6_3ecd_11ea_88c0_0242ac1c0002row5_col0\" class=\"data row5 col0\" >-0.0115958</td>\n",
              "                        <td id=\"T_d5ba6ac6_3ecd_11ea_88c0_0242ac1c0002row5_col1\" class=\"data row5 col1\" >0.110576</td>\n",
              "                        <td id=\"T_d5ba6ac6_3ecd_11ea_88c0_0242ac1c0002row5_col2\" class=\"data row5 col2\" >-0.0013668</td>\n",
              "                        <td id=\"T_d5ba6ac6_3ecd_11ea_88c0_0242ac1c0002row5_col3\" class=\"data row5 col3\" >-0.0094222</td>\n",
              "                        <td id=\"T_d5ba6ac6_3ecd_11ea_88c0_0242ac1c0002row5_col4\" class=\"data row5 col4\" >0.136104</td>\n",
              "                        <td id=\"T_d5ba6ac6_3ecd_11ea_88c0_0242ac1c0002row5_col5\" class=\"data row5 col5\" >1</td>\n",
              "            </tr>\n",
              "    </tbody></table>"
            ],
            "text/plain": [
              "<pandas.io.formats.style.Styler at 0x7f1805626390>"
            ]
          },
          "metadata": {
            "tags": []
          },
          "execution_count": 93
        }
      ]
    },
    {
      "cell_type": "code",
      "metadata": {
        "id": "Ui-TIPhQjlb9",
        "colab_type": "code",
        "outputId": "97f9e961-0532-4a78-a914-ee73a6abbd76",
        "colab": {
          "base_uri": "https://localhost:8080/",
          "height": 166
        }
      },
      "source": [
        "# Create a correlation matrix of the continuous variables\n",
        "# for when the class label = '-'\n",
        "corr_neg = df[cond_neg].corr()\n",
        "corr_neg.style.background_gradient(cmap='coolwarm')"
      ],
      "execution_count": 0,
      "outputs": [
        {
          "output_type": "execute_result",
          "data": {
            "text/html": [
              "<style  type=\"text/css\" >\n",
              "    #T_571fe33a_3ecd_11ea_88c0_0242ac1c0002row0_col0 {\n",
              "            background-color:  #b40426;\n",
              "            color:  #f1f1f1;\n",
              "        }    #T_571fe33a_3ecd_11ea_88c0_0242ac1c0002row0_col1 {\n",
              "            background-color:  #7597f6;\n",
              "            color:  #000000;\n",
              "        }    #T_571fe33a_3ecd_11ea_88c0_0242ac1c0002row0_col2 {\n",
              "            background-color:  #a2c1ff;\n",
              "            color:  #000000;\n",
              "        }    #T_571fe33a_3ecd_11ea_88c0_0242ac1c0002row0_col3 {\n",
              "            background-color:  #4f69d9;\n",
              "            color:  #000000;\n",
              "        }    #T_571fe33a_3ecd_11ea_88c0_0242ac1c0002row0_col4 {\n",
              "            background-color:  #536edd;\n",
              "            color:  #000000;\n",
              "        }    #T_571fe33a_3ecd_11ea_88c0_0242ac1c0002row0_col5 {\n",
              "            background-color:  #4a63d3;\n",
              "            color:  #f1f1f1;\n",
              "        }    #T_571fe33a_3ecd_11ea_88c0_0242ac1c0002row1_col0 {\n",
              "            background-color:  #6180e9;\n",
              "            color:  #000000;\n",
              "        }    #T_571fe33a_3ecd_11ea_88c0_0242ac1c0002row1_col1 {\n",
              "            background-color:  #b40426;\n",
              "            color:  #f1f1f1;\n",
              "        }    #T_571fe33a_3ecd_11ea_88c0_0242ac1c0002row1_col2 {\n",
              "            background-color:  #5875e1;\n",
              "            color:  #000000;\n",
              "        }    #T_571fe33a_3ecd_11ea_88c0_0242ac1c0002row1_col3 {\n",
              "            background-color:  #6485ec;\n",
              "            color:  #000000;\n",
              "        }    #T_571fe33a_3ecd_11ea_88c0_0242ac1c0002row1_col4 {\n",
              "            background-color:  #3b4cc0;\n",
              "            color:  #f1f1f1;\n",
              "        }    #T_571fe33a_3ecd_11ea_88c0_0242ac1c0002row1_col5 {\n",
              "            background-color:  #7a9df8;\n",
              "            color:  #000000;\n",
              "        }    #T_571fe33a_3ecd_11ea_88c0_0242ac1c0002row2_col0 {\n",
              "            background-color:  #94b6ff;\n",
              "            color:  #000000;\n",
              "        }    #T_571fe33a_3ecd_11ea_88c0_0242ac1c0002row2_col1 {\n",
              "            background-color:  #5b7ae5;\n",
              "            color:  #000000;\n",
              "        }    #T_571fe33a_3ecd_11ea_88c0_0242ac1c0002row2_col2 {\n",
              "            background-color:  #b40426;\n",
              "            color:  #f1f1f1;\n",
              "        }    #T_571fe33a_3ecd_11ea_88c0_0242ac1c0002row2_col3 {\n",
              "            background-color:  #4c66d6;\n",
              "            color:  #000000;\n",
              "        }    #T_571fe33a_3ecd_11ea_88c0_0242ac1c0002row2_col4 {\n",
              "            background-color:  #84a7fc;\n",
              "            color:  #000000;\n",
              "        }    #T_571fe33a_3ecd_11ea_88c0_0242ac1c0002row2_col5 {\n",
              "            background-color:  #3b4cc0;\n",
              "            color:  #f1f1f1;\n",
              "        }    #T_571fe33a_3ecd_11ea_88c0_0242ac1c0002row3_col0 {\n",
              "            background-color:  #485fd1;\n",
              "            color:  #f1f1f1;\n",
              "        }    #T_571fe33a_3ecd_11ea_88c0_0242ac1c0002row3_col1 {\n",
              "            background-color:  #7093f3;\n",
              "            color:  #000000;\n",
              "        }    #T_571fe33a_3ecd_11ea_88c0_0242ac1c0002row3_col2 {\n",
              "            background-color:  #5572df;\n",
              "            color:  #000000;\n",
              "        }    #T_571fe33a_3ecd_11ea_88c0_0242ac1c0002row3_col3 {\n",
              "            background-color:  #b40426;\n",
              "            color:  #f1f1f1;\n",
              "        }    #T_571fe33a_3ecd_11ea_88c0_0242ac1c0002row3_col4 {\n",
              "            background-color:  #465ecf;\n",
              "            color:  #f1f1f1;\n",
              "        }    #T_571fe33a_3ecd_11ea_88c0_0242ac1c0002row3_col5 {\n",
              "            background-color:  #5875e1;\n",
              "            color:  #000000;\n",
              "        }    #T_571fe33a_3ecd_11ea_88c0_0242ac1c0002row4_col0 {\n",
              "            background-color:  #3f53c6;\n",
              "            color:  #f1f1f1;\n",
              "        }    #T_571fe33a_3ecd_11ea_88c0_0242ac1c0002row4_col1 {\n",
              "            background-color:  #3b4cc0;\n",
              "            color:  #f1f1f1;\n",
              "        }    #T_571fe33a_3ecd_11ea_88c0_0242ac1c0002row4_col2 {\n",
              "            background-color:  #81a4fb;\n",
              "            color:  #000000;\n",
              "        }    #T_571fe33a_3ecd_11ea_88c0_0242ac1c0002row4_col3 {\n",
              "            background-color:  #3b4cc0;\n",
              "            color:  #f1f1f1;\n",
              "        }    #T_571fe33a_3ecd_11ea_88c0_0242ac1c0002row4_col4 {\n",
              "            background-color:  #b40426;\n",
              "            color:  #f1f1f1;\n",
              "        }    #T_571fe33a_3ecd_11ea_88c0_0242ac1c0002row4_col5 {\n",
              "            background-color:  #5b7ae5;\n",
              "            color:  #000000;\n",
              "        }    #T_571fe33a_3ecd_11ea_88c0_0242ac1c0002row5_col0 {\n",
              "            background-color:  #3b4cc0;\n",
              "            color:  #f1f1f1;\n",
              "        }    #T_571fe33a_3ecd_11ea_88c0_0242ac1c0002row5_col1 {\n",
              "            background-color:  #7da0f9;\n",
              "            color:  #000000;\n",
              "        }    #T_571fe33a_3ecd_11ea_88c0_0242ac1c0002row5_col2 {\n",
              "            background-color:  #3b4cc0;\n",
              "            color:  #f1f1f1;\n",
              "        }    #T_571fe33a_3ecd_11ea_88c0_0242ac1c0002row5_col3 {\n",
              "            background-color:  #4f69d9;\n",
              "            color:  #000000;\n",
              "        }    #T_571fe33a_3ecd_11ea_88c0_0242ac1c0002row5_col4 {\n",
              "            background-color:  #5e7de7;\n",
              "            color:  #000000;\n",
              "        }    #T_571fe33a_3ecd_11ea_88c0_0242ac1c0002row5_col5 {\n",
              "            background-color:  #b40426;\n",
              "            color:  #f1f1f1;\n",
              "        }</style><table id=\"T_571fe33a_3ecd_11ea_88c0_0242ac1c0002\" ><thead>    <tr>        <th class=\"blank level0\" ></th>        <th class=\"col_heading level0 col0\" >A2</th>        <th class=\"col_heading level0 col1\" >A3</th>        <th class=\"col_heading level0 col2\" >A8</th>        <th class=\"col_heading level0 col3\" >A11</th>        <th class=\"col_heading level0 col4\" >A14</th>        <th class=\"col_heading level0 col5\" >A15</th>    </tr></thead><tbody>\n",
              "                <tr>\n",
              "                        <th id=\"T_571fe33a_3ecd_11ea_88c0_0242ac1c0002level0_row0\" class=\"row_heading level0 row0\" >A2</th>\n",
              "                        <td id=\"T_571fe33a_3ecd_11ea_88c0_0242ac1c0002row0_col0\" class=\"data row0 col0\" >1</td>\n",
              "                        <td id=\"T_571fe33a_3ecd_11ea_88c0_0242ac1c0002row0_col1\" class=\"data row0 col1\" >0.095026</td>\n",
              "                        <td id=\"T_571fe33a_3ecd_11ea_88c0_0242ac1c0002row0_col2\" class=\"data row0 col2\" >0.247226</td>\n",
              "                        <td id=\"T_571fe33a_3ecd_11ea_88c0_0242ac1c0002row0_col3\" class=\"data row0 col3\" >0.0140884</td>\n",
              "                        <td id=\"T_571fe33a_3ecd_11ea_88c0_0242ac1c0002row0_col4\" class=\"data row0 col4\" >-0.0149183</td>\n",
              "                        <td id=\"T_571fe33a_3ecd_11ea_88c0_0242ac1c0002row0_col5\" class=\"data row0 col5\" >-0.0338693</td>\n",
              "            </tr>\n",
              "            <tr>\n",
              "                        <th id=\"T_571fe33a_3ecd_11ea_88c0_0242ac1c0002level0_row1\" class=\"row_heading level0 row1\" >A3</th>\n",
              "                        <td id=\"T_571fe33a_3ecd_11ea_88c0_0242ac1c0002row1_col0\" class=\"data row1 col0\" >0.095026</td>\n",
              "                        <td id=\"T_571fe33a_3ecd_11ea_88c0_0242ac1c0002row1_col1\" class=\"data row1 col1\" >1</td>\n",
              "                        <td id=\"T_571fe33a_3ecd_11ea_88c0_0242ac1c0002row1_col2\" class=\"data row1 col2\" >0.0136747</td>\n",
              "                        <td id=\"T_571fe33a_3ecd_11ea_88c0_0242ac1c0002row1_col3\" class=\"data row1 col3\" >0.082698</td>\n",
              "                        <td id=\"T_571fe33a_3ecd_11ea_88c0_0242ac1c0002row1_col4\" class=\"data row1 col4\" >-0.105275</td>\n",
              "                        <td id=\"T_571fe33a_3ecd_11ea_88c0_0242ac1c0002row1_col5\" class=\"data row1 col5\" >0.120923</td>\n",
              "            </tr>\n",
              "            <tr>\n",
              "                        <th id=\"T_571fe33a_3ecd_11ea_88c0_0242ac1c0002level0_row2\" class=\"row_heading level0 row2\" >A8</th>\n",
              "                        <td id=\"T_571fe33a_3ecd_11ea_88c0_0242ac1c0002row2_col0\" class=\"data row2 col0\" >0.247226</td>\n",
              "                        <td id=\"T_571fe33a_3ecd_11ea_88c0_0242ac1c0002row2_col1\" class=\"data row2 col1\" >0.0136747</td>\n",
              "                        <td id=\"T_571fe33a_3ecd_11ea_88c0_0242ac1c0002row2_col2\" class=\"data row2 col2\" >1</td>\n",
              "                        <td id=\"T_571fe33a_3ecd_11ea_88c0_0242ac1c0002row2_col3\" class=\"data row2 col3\" >0.00388369</td>\n",
              "                        <td id=\"T_571fe33a_3ecd_11ea_88c0_0242ac1c0002row2_col4\" class=\"data row2 col4\" >0.142298</td>\n",
              "                        <td id=\"T_571fe33a_3ecd_11ea_88c0_0242ac1c0002row2_col5\" class=\"data row2 col5\" >-0.0927738</td>\n",
              "            </tr>\n",
              "            <tr>\n",
              "                        <th id=\"T_571fe33a_3ecd_11ea_88c0_0242ac1c0002level0_row3\" class=\"row_heading level0 row3\" >A11</th>\n",
              "                        <td id=\"T_571fe33a_3ecd_11ea_88c0_0242ac1c0002row3_col0\" class=\"data row3 col0\" >0.0140884</td>\n",
              "                        <td id=\"T_571fe33a_3ecd_11ea_88c0_0242ac1c0002row3_col1\" class=\"data row3 col1\" >0.082698</td>\n",
              "                        <td id=\"T_571fe33a_3ecd_11ea_88c0_0242ac1c0002row3_col2\" class=\"data row3 col2\" >0.00388369</td>\n",
              "                        <td id=\"T_571fe33a_3ecd_11ea_88c0_0242ac1c0002row3_col3\" class=\"data row3 col3\" >1</td>\n",
              "                        <td id=\"T_571fe33a_3ecd_11ea_88c0_0242ac1c0002row3_col4\" class=\"data row3 col4\" >-0.0599911</td>\n",
              "                        <td id=\"T_571fe33a_3ecd_11ea_88c0_0242ac1c0002row3_col5\" class=\"data row3 col5\" >0.0107195</td>\n",
              "            </tr>\n",
              "            <tr>\n",
              "                        <th id=\"T_571fe33a_3ecd_11ea_88c0_0242ac1c0002level0_row4\" class=\"row_heading level0 row4\" >A14</th>\n",
              "                        <td id=\"T_571fe33a_3ecd_11ea_88c0_0242ac1c0002row4_col0\" class=\"data row4 col0\" >-0.0149183</td>\n",
              "                        <td id=\"T_571fe33a_3ecd_11ea_88c0_0242ac1c0002row4_col1\" class=\"data row4 col1\" >-0.105275</td>\n",
              "                        <td id=\"T_571fe33a_3ecd_11ea_88c0_0242ac1c0002row4_col2\" class=\"data row4 col2\" >0.142298</td>\n",
              "                        <td id=\"T_571fe33a_3ecd_11ea_88c0_0242ac1c0002row4_col3\" class=\"data row4 col3\" >-0.0599911</td>\n",
              "                        <td id=\"T_571fe33a_3ecd_11ea_88c0_0242ac1c0002row4_col4\" class=\"data row4 col4\" >1</td>\n",
              "                        <td id=\"T_571fe33a_3ecd_11ea_88c0_0242ac1c0002row4_col5\" class=\"data row4 col5\" >0.0227289</td>\n",
              "            </tr>\n",
              "            <tr>\n",
              "                        <th id=\"T_571fe33a_3ecd_11ea_88c0_0242ac1c0002level0_row5\" class=\"row_heading level0 row5\" >A15</th>\n",
              "                        <td id=\"T_571fe33a_3ecd_11ea_88c0_0242ac1c0002row5_col0\" class=\"data row5 col0\" >-0.0338693</td>\n",
              "                        <td id=\"T_571fe33a_3ecd_11ea_88c0_0242ac1c0002row5_col1\" class=\"data row5 col1\" >0.120923</td>\n",
              "                        <td id=\"T_571fe33a_3ecd_11ea_88c0_0242ac1c0002row5_col2\" class=\"data row5 col2\" >-0.0927738</td>\n",
              "                        <td id=\"T_571fe33a_3ecd_11ea_88c0_0242ac1c0002row5_col3\" class=\"data row5 col3\" >0.0107195</td>\n",
              "                        <td id=\"T_571fe33a_3ecd_11ea_88c0_0242ac1c0002row5_col4\" class=\"data row5 col4\" >0.0227289</td>\n",
              "                        <td id=\"T_571fe33a_3ecd_11ea_88c0_0242ac1c0002row5_col5\" class=\"data row5 col5\" >1</td>\n",
              "            </tr>\n",
              "    </tbody></table>"
            ],
            "text/plain": [
              "<pandas.io.formats.style.Styler at 0x7f18058118d0>"
            ]
          },
          "metadata": {
            "tags": []
          },
          "execution_count": 87
        }
      ]
    },
    {
      "cell_type": "code",
      "metadata": {
        "id": "n78BeXKQjC2z",
        "colab_type": "code",
        "outputId": "86005967-29b0-4890-99d8-4fdf19715ea3",
        "colab": {
          "base_uri": "https://localhost:8080/",
          "height": 307
        }
      },
      "source": [
        "# Create a scatter plot matrix of the continuous variables\n",
        "# for when the class label = '+'\n",
        "pd.plotting.scatter_matrix(df[cond_pos], alpha=0.2);"
      ],
      "execution_count": 0,
      "outputs": [
        {
          "output_type": "display_data",
          "data": {
            "image/png": "[encoded data removed]",
            "text/plain": [
              "<Figure size 432x288 with 36 Axes>"
            ]
          },
          "metadata": {
            "tags": []
          }
        }
      ]
    },
    {
      "cell_type": "code",
      "metadata": {
        "id": "edFw4FzJjFqt",
        "colab_type": "code",
        "outputId": "d58ed1f8-5cb2-4eb1-aaeb-41a858200db1",
        "colab": {
          "base_uri": "https://localhost:8080/",
          "height": 295
        }
      },
      "source": [
        "# Create a scatter plot matrix of the continuous variables\n",
        "# for when the class label = '-'\n",
        "pd.plotting.scatter_matrix(df[cond_neg], alpha=0.2);"
      ],
      "execution_count": 0,
      "outputs": [
        {
          "output_type": "display_data",
          "data": {
            "image/png": "[encoded data removed]",
            "text/plain": [
              "<Figure size 432x288 with 36 Axes>"
            ]
          },
          "metadata": {
            "tags": []
          }
        }
      ]
    },
    {
      "cell_type": "code",
      "metadata": {
        "id": "sWUe-_ZwhCfR",
        "colab_type": "code",
        "colab": {}
      },
      "source": [
        "import seaborn as sns\n",
        "import matplotlib.pyplot as plt\n",
        "sns.set(style=\"darkgrid\")"
      ],
      "execution_count": 0,
      "outputs": []
    },
    {
      "cell_type": "code",
      "metadata": {
        "id": "iq4q8vXAhk9-",
        "colab_type": "code",
        "outputId": "a3aa2e7e-e54b-4569-84fe-5f9831b58476",
        "colab": {
          "base_uri": "https://localhost:8080/",
          "height": 221
        }
      },
      "source": [
        "# Create histograms for A2 faceted by the class label values\n",
        "g = sns.FacetGrid(df, col='A16', margin_titles=True)\n",
        "# bins = np.linspace(0, 60, 13)\n",
        "g.map(plt.hist, 'A2', color=\"steelblue\");"
      ],
      "execution_count": 0,
      "outputs": [
        {
          "output_type": "display_data",
          "data": {
            "image/png": "[encoded data removed]",
            "text/plain": [
              "<Figure size 432x216 with 2 Axes>"
            ]
          },
          "metadata": {
            "tags": []
          }
        }
      ]
    },
    {
      "cell_type": "code",
      "metadata": {
        "id": "60fdBPAtiJIb",
        "colab_type": "code",
        "outputId": "f357901b-24b2-4dcb-9928-279eb9cb3f3b",
        "colab": {
          "base_uri": "https://localhost:8080/",
          "height": 221
        }
      },
      "source": [
        "# Create histograms for A3 faceted by the class label values\n",
        "g = sns.FacetGrid(df, col='A16', margin_titles=True)\n",
        "# bins = np.linspace(0, 60, 13)\n",
        "g.map(plt.hist, 'A3', color=\"steelblue\");"
      ],
      "execution_count": 0,
      "outputs": [
        {
          "output_type": "display_data",
          "data": {
            "image/png": "[encoded data removed]",
            "text/plain": [
              "<Figure size 432x216 with 2 Axes>"
            ]
          },
          "metadata": {
            "tags": []
          }
        }
      ]
    },
    {
      "cell_type": "code",
      "metadata": {
        "id": "V8nZp0wCiTMI",
        "colab_type": "code",
        "outputId": "df7f412b-c46b-4524-af26-0bb347b99c22",
        "colab": {
          "base_uri": "https://localhost:8080/",
          "height": 221
        }
      },
      "source": [
        "# Create histograms for A8 faceted by the class label values\n",
        "g = sns.FacetGrid(df, col='A16', margin_titles=True)\n",
        "# bins = np.linspace(0, 60, 13)\n",
        "g.map(plt.hist, 'A8', color=\"steelblue\");"
      ],
      "execution_count": 0,
      "outputs": [
        {
          "output_type": "display_data",
          "data": {
            "image/png": "[encoded data removed]",
            "text/plain": [
              "<Figure size 432x216 with 2 Axes>"
            ]
          },
          "metadata": {
            "tags": []
          }
        }
      ]
    },
    {
      "cell_type": "code",
      "metadata": {
        "id": "Vxh3ym-oiVtF",
        "colab_type": "code",
        "outputId": "2613a862-3b20-4225-f67a-cfa4014baccf",
        "colab": {
          "base_uri": "https://localhost:8080/",
          "height": 221
        }
      },
      "source": [
        "# Create histograms for A11 faceted by the class label values\n",
        "g = sns.FacetGrid(df, col='A16', margin_titles=True)\n",
        "# bins = np.linspace(0, 60, 13)\n",
        "g.map(plt.hist, 'A11', color=\"steelblue\");"
      ],
      "execution_count": 0,
      "outputs": [
        {
          "output_type": "display_data",
          "data": {
            "image/png": "[encoded data removed]",
            "text/plain": [
              "<Figure size 432x216 with 2 Axes>"
            ]
          },
          "metadata": {
            "tags": []
          }
        }
      ]
    },
    {
      "cell_type": "code",
      "metadata": {
        "id": "dj20exyniXwf",
        "colab_type": "code",
        "outputId": "6daf24d8-740f-47c9-d747-da99e4d46e22",
        "colab": {
          "base_uri": "https://localhost:8080/",
          "height": 221
        }
      },
      "source": [
        "# Create histograms for A14 faceted by the class label values\n",
        "g = sns.FacetGrid(df, col='A16', margin_titles=True)\n",
        "# bins = np.linspace(0, 60, 13)\n",
        "g.map(plt.hist, 'A14', color=\"steelblue\");"
      ],
      "execution_count": 0,
      "outputs": [
        {
          "output_type": "display_data",
          "data": {
            "image/png": "[encoded data removed]",
            "text/plain": [
              "<Figure size 432x216 with 2 Axes>"
            ]
          },
          "metadata": {
            "tags": []
          }
        }
      ]
    },
    {
      "cell_type": "code",
      "metadata": {
        "id": "TVwD1kuIigvx",
        "colab_type": "code",
        "outputId": "975d9df2-5a89-44ac-d882-239137da37eb",
        "colab": {
          "base_uri": "https://localhost:8080/",
          "height": 221
        }
      },
      "source": [
        "# Create histograms for A15 faceted by the class label values\n",
        "g = sns.FacetGrid(df, col='A16', margin_titles=True)\n",
        "# bins = np.linspace(0, 60, 13)\n",
        "g.map(plt.hist, 'A15', color=\"steelblue\");"
      ],
      "execution_count": 0,
      "outputs": [
        {
          "output_type": "display_data",
          "data": {
            "image/png": "[encoded data removed]",
            "text/plain": [
              "<Figure size 432x216 with 2 Axes>"
            ]
          },
          "metadata": {
            "tags": []
          }
        }
      ]
    },
    {
      "cell_type": "markdown",
      "metadata": {
        "id": "kqlSkt7ngSaW",
        "colab_type": "text"
      },
      "source": [
        "## T tests:"
      ]
    },
    {
      "cell_type": "code",
      "metadata": {
        "id": "6MN-snh8gVNO",
        "colab_type": "code",
        "outputId": "590c9fe8-5487-45c7-cfcc-b22eeedbaf9f",
        "colab": {
          "base_uri": "https://localhost:8080/",
          "height": 34
        }
      },
      "source": [
        "# Feature that looks extremely different\n",
        "df_pos = df[cond_pos]\n",
        "df_neg = df[cond_neg]\n",
        "from scipy import stats\n",
        "\n",
        "stats.ttest_ind(df_pos['A11'], df_neg['A11'], nan_policy='omit')"
      ],
      "execution_count": 0,
      "outputs": [
        {
          "output_type": "execute_result",
          "data": {
            "text/plain": [
              "Ttest_indResult(statistic=11.667004222431277, pvalue=7.957718568079967e-29)"
            ]
          },
          "metadata": {
            "tags": []
          },
          "execution_count": 97
        }
      ]
    },
    {
      "cell_type": "code",
      "metadata": {
        "id": "8HHD0F2tlaP_",
        "colab_type": "code",
        "outputId": "3e20679a-743b-4301-99f5-2b40f5ccd4e8",
        "colab": {
          "base_uri": "https://localhost:8080/",
          "height": 34
        }
      },
      "source": [
        "# Notably less different feature\n",
        "stats.ttest_ind(df_pos['A14'], df_neg['A14'], nan_policy='omit')"
      ],
      "execution_count": 0,
      "outputs": [
        {
          "output_type": "execute_result",
          "data": {
            "text/plain": [
              "Ttest_indResult(statistic=-2.6358251986645476, pvalue=0.008586135473979569)"
            ]
          },
          "metadata": {
            "tags": []
          },
          "execution_count": 98
        }
      ]
    },
    {
      "cell_type": "code",
      "metadata": {
        "id": "JPWL-xmByJVB",
        "colab_type": "code",
        "outputId": "a9824690-ac1d-43c6-bb7d-316651e7fee1",
        "colab": {
          "base_uri": "https://localhost:8080/",
          "height": 34
        }
      },
      "source": [
        "df['A11'].dtypes"
      ],
      "execution_count": 0,
      "outputs": [
        {
          "output_type": "execute_result",
          "data": {
            "text/plain": [
              "dtype('float64')"
            ]
          },
          "metadata": {
            "tags": []
          },
          "execution_count": 112
        }
      ]
    },
    {
      "cell_type": "code",
      "metadata": {
        "id": "LJofjo32vhUk",
        "colab_type": "code",
        "colab": {}
      },
      "source": [
        "# Function for t-tests\n",
        "def custom_t_test(variable,confidence=0.95):\n",
        "  # Throw error exception if the variable is not a float\n",
        "  if(df[variable].dtypes!=float):\n",
        "    return print(variable,\" is not a continuous variable\")\n",
        "\n",
        "  return stats.ttest_ind(df_pos[variable],df_neg[variable],nan_policy='omit')"
      ],
      "execution_count": 0,
      "outputs": []
    },
    {
      "cell_type": "code",
      "metadata": {
        "id": "BV1wEYqvxzID",
        "colab_type": "code",
        "outputId": "a3b3438d-6eb2-4bb9-ca88-77f5bee15f4d",
        "colab": {
          "base_uri": "https://localhost:8080/",
          "height": 34
        }
      },
      "source": [
        "# Test the function\n",
        "custom_t_test('A11')"
      ],
      "execution_count": 0,
      "outputs": [
        {
          "output_type": "execute_result",
          "data": {
            "text/plain": [
              "Ttest_indResult(statistic=11.667004222431277, pvalue=7.957718568079967e-29)"
            ]
          },
          "metadata": {
            "tags": []
          },
          "execution_count": 118
        }
      ]
    },
    {
      "cell_type": "code",
      "metadata": {
        "id": "Bg4xMk1FydQ4",
        "colab_type": "code",
        "outputId": "38a153c6-7802-442f-f4f4-dc4dc8ff19d8",
        "colab": {
          "base_uri": "https://localhost:8080/",
          "height": 34
        }
      },
      "source": [
        "# test the error exception\n",
        "custom_t_test('A1')"
      ],
      "execution_count": 0,
      "outputs": [
        {
          "output_type": "stream",
          "text": [
            "A1  is not a continuous variable\n"
          ],
          "name": "stdout"
        }
      ]
    },
    {
      "cell_type": "markdown",
      "metadata": {
        "id": "7xJvaT0UfUuB",
        "colab_type": "text"
      },
      "source": [
        "## Exploring the categorical features when splitting between the two class labels:"
      ]
    },
    {
      "cell_type": "code",
      "metadata": {
        "id": "cQLxXFS0diXR",
        "colab_type": "code",
        "outputId": "c7d38c76-b822-4f03-baa6-2ac9d74716e8",
        "colab": {
          "base_uri": "https://localhost:8080/",
          "height": 142
        }
      },
      "source": [
        "# Create a cross tabulation of A1 and A16\n",
        "ctab1 = pd.crosstab(df['A16'],\n",
        "                    df['A1'])\n",
        "ctab1"
      ],
      "execution_count": 0,
      "outputs": [
        {
          "output_type": "execute_result",
          "data": {
            "text/html": [
              "<div>\n",
              "<style scoped>\n",
              "    .dataframe tbody tr th:only-of-type {\n",
              "        vertical-align: middle;\n",
              "    }\n",
              "\n",
              "    .dataframe tbody tr th {\n",
              "        vertical-align: top;\n",
              "    }\n",
              "\n",
              "    .dataframe thead th {\n",
              "        text-align: right;\n",
              "    }\n",
              "</style>\n",
              "<table border=\"1\" class=\"dataframe\">\n",
              "  <thead>\n",
              "    <tr style=\"text-align: right;\">\n",
              "      <th>A1</th>\n",
              "      <th>a</th>\n",
              "      <th>b</th>\n",
              "    </tr>\n",
              "    <tr>\n",
              "      <th>A16</th>\n",
              "      <th></th>\n",
              "      <th></th>\n",
              "    </tr>\n",
              "  </thead>\n",
              "  <tbody>\n",
              "    <tr>\n",
              "      <th>+</th>\n",
              "      <td>98</td>\n",
              "      <td>206</td>\n",
              "    </tr>\n",
              "    <tr>\n",
              "      <th>-</th>\n",
              "      <td>112</td>\n",
              "      <td>262</td>\n",
              "    </tr>\n",
              "  </tbody>\n",
              "</table>\n",
              "</div>"
            ],
            "text/plain": [
              "A1     a    b\n",
              "A16          \n",
              "+     98  206\n",
              "-    112  262"
            ]
          },
          "metadata": {
            "tags": []
          },
          "execution_count": 59
        }
      ]
    },
    {
      "cell_type": "code",
      "metadata": {
        "id": "SQoa8grVe_6o",
        "colab_type": "code",
        "outputId": "50c2b5e2-d580-42ce-ebaf-34c527283b76",
        "colab": {
          "base_uri": "https://localhost:8080/",
          "height": 142
        }
      },
      "source": [
        "# Create a cross tabulation of A4 and A16\n",
        "ctab4 = pd.crosstab(df['A16'],\n",
        "                    df['A4'])\n",
        "ctab4"
      ],
      "execution_count": 0,
      "outputs": [
        {
          "output_type": "execute_result",
          "data": {
            "text/html": [
              "<div>\n",
              "<style scoped>\n",
              "    .dataframe tbody tr th:only-of-type {\n",
              "        vertical-align: middle;\n",
              "    }\n",
              "\n",
              "    .dataframe tbody tr th {\n",
              "        vertical-align: top;\n",
              "    }\n",
              "\n",
              "    .dataframe thead th {\n",
              "        text-align: right;\n",
              "    }\n",
              "</style>\n",
              "<table border=\"1\" class=\"dataframe\">\n",
              "  <thead>\n",
              "    <tr style=\"text-align: right;\">\n",
              "      <th>A4</th>\n",
              "      <th>l</th>\n",
              "      <th>t</th>\n",
              "      <th>u</th>\n",
              "      <th>y</th>\n",
              "    </tr>\n",
              "    <tr>\n",
              "      <th>A16</th>\n",
              "      <th></th>\n",
              "      <th></th>\n",
              "      <th></th>\n",
              "      <th></th>\n",
              "    </tr>\n",
              "  </thead>\n",
              "  <tbody>\n",
              "    <tr>\n",
              "      <th>+</th>\n",
              "      <td>2</td>\n",
              "      <td>4</td>\n",
              "      <td>256</td>\n",
              "      <td>45</td>\n",
              "    </tr>\n",
              "    <tr>\n",
              "      <th>-</th>\n",
              "      <td>0</td>\n",
              "      <td>2</td>\n",
              "      <td>263</td>\n",
              "      <td>118</td>\n",
              "    </tr>\n",
              "  </tbody>\n",
              "</table>\n",
              "</div>"
            ],
            "text/plain": [
              "A4   l  t    u    y\n",
              "A16                \n",
              "+    2  4  256   45\n",
              "-    0  2  263  118"
            ]
          },
          "metadata": {
            "tags": []
          },
          "execution_count": 61
        }
      ]
    },
    {
      "cell_type": "code",
      "metadata": {
        "id": "IANmO_JEe9VV",
        "colab_type": "code",
        "outputId": "0b454cf5-4028-4ab0-faee-acf74d7e0583",
        "colab": {
          "base_uri": "https://localhost:8080/",
          "height": 142
        }
      },
      "source": [
        "# Similar looking values at first glance\n",
        "\n",
        "# Create a cross tabulation of A5 and A16\n",
        "ctab5 = pd.crosstab(df['A16'],\n",
        "                    df['A5'])\n",
        "ctab5"
      ],
      "execution_count": 0,
      "outputs": [
        {
          "output_type": "execute_result",
          "data": {
            "text/html": [
              "<div>\n",
              "<style scoped>\n",
              "    .dataframe tbody tr th:only-of-type {\n",
              "        vertical-align: middle;\n",
              "    }\n",
              "\n",
              "    .dataframe tbody tr th {\n",
              "        vertical-align: top;\n",
              "    }\n",
              "\n",
              "    .dataframe thead th {\n",
              "        text-align: right;\n",
              "    }\n",
              "</style>\n",
              "<table border=\"1\" class=\"dataframe\">\n",
              "  <thead>\n",
              "    <tr style=\"text-align: right;\">\n",
              "      <th>A5</th>\n",
              "      <th>g</th>\n",
              "      <th>gg</th>\n",
              "      <th>p</th>\n",
              "    </tr>\n",
              "    <tr>\n",
              "      <th>A16</th>\n",
              "      <th></th>\n",
              "      <th></th>\n",
              "      <th></th>\n",
              "    </tr>\n",
              "  </thead>\n",
              "  <tbody>\n",
              "    <tr>\n",
              "      <th>+</th>\n",
              "      <td>256</td>\n",
              "      <td>2</td>\n",
              "      <td>45</td>\n",
              "    </tr>\n",
              "    <tr>\n",
              "      <th>-</th>\n",
              "      <td>263</td>\n",
              "      <td>0</td>\n",
              "      <td>118</td>\n",
              "    </tr>\n",
              "  </tbody>\n",
              "</table>\n",
              "</div>"
            ],
            "text/plain": [
              "A5     g  gg    p\n",
              "A16              \n",
              "+    256   2   45\n",
              "-    263   0  118"
            ]
          },
          "metadata": {
            "tags": []
          },
          "execution_count": 62
        }
      ]
    },
    {
      "cell_type": "code",
      "metadata": {
        "id": "QJceEGHdfOtO",
        "colab_type": "code",
        "outputId": "627608c2-e81c-4c28-b4f9-1b8dae5b9752",
        "colab": {
          "base_uri": "https://localhost:8080/",
          "height": 142
        }
      },
      "source": [
        "# Create a cross tabulation of A6 and A16\n",
        "ctab6 = pd.crosstab(df['A16'],\n",
        "                    df['A6'])\n",
        "ctab6"
      ],
      "execution_count": 0,
      "outputs": [
        {
          "output_type": "execute_result",
          "data": {
            "text/html": [
              "<div>\n",
              "<style scoped>\n",
              "    .dataframe tbody tr th:only-of-type {\n",
              "        vertical-align: middle;\n",
              "    }\n",
              "\n",
              "    .dataframe tbody tr th {\n",
              "        vertical-align: top;\n",
              "    }\n",
              "\n",
              "    .dataframe thead th {\n",
              "        text-align: right;\n",
              "    }\n",
              "</style>\n",
              "<table border=\"1\" class=\"dataframe\">\n",
              "  <thead>\n",
              "    <tr style=\"text-align: right;\">\n",
              "      <th>A6</th>\n",
              "      <th>aa</th>\n",
              "      <th>c</th>\n",
              "      <th>cc</th>\n",
              "      <th>d</th>\n",
              "      <th>e</th>\n",
              "      <th>ff</th>\n",
              "      <th>i</th>\n",
              "      <th>j</th>\n",
              "      <th>k</th>\n",
              "      <th>m</th>\n",
              "      <th>q</th>\n",
              "      <th>r</th>\n",
              "      <th>w</th>\n",
              "      <th>x</th>\n",
              "    </tr>\n",
              "    <tr>\n",
              "      <th>A16</th>\n",
              "      <th></th>\n",
              "      <th></th>\n",
              "      <th></th>\n",
              "      <th></th>\n",
              "      <th></th>\n",
              "      <th></th>\n",
              "      <th></th>\n",
              "      <th></th>\n",
              "      <th></th>\n",
              "      <th></th>\n",
              "      <th></th>\n",
              "      <th></th>\n",
              "      <th></th>\n",
              "      <th></th>\n",
              "    </tr>\n",
              "  </thead>\n",
              "  <tbody>\n",
              "    <tr>\n",
              "      <th>+</th>\n",
              "      <td>19</td>\n",
              "      <td>62</td>\n",
              "      <td>29</td>\n",
              "      <td>7</td>\n",
              "      <td>14</td>\n",
              "      <td>7</td>\n",
              "      <td>14</td>\n",
              "      <td>3</td>\n",
              "      <td>14</td>\n",
              "      <td>16</td>\n",
              "      <td>51</td>\n",
              "      <td>2</td>\n",
              "      <td>33</td>\n",
              "      <td>32</td>\n",
              "    </tr>\n",
              "    <tr>\n",
              "      <th>-</th>\n",
              "      <td>35</td>\n",
              "      <td>75</td>\n",
              "      <td>12</td>\n",
              "      <td>23</td>\n",
              "      <td>11</td>\n",
              "      <td>46</td>\n",
              "      <td>45</td>\n",
              "      <td>7</td>\n",
              "      <td>37</td>\n",
              "      <td>22</td>\n",
              "      <td>27</td>\n",
              "      <td>1</td>\n",
              "      <td>31</td>\n",
              "      <td>6</td>\n",
              "    </tr>\n",
              "  </tbody>\n",
              "</table>\n",
              "</div>"
            ],
            "text/plain": [
              "A6   aa   c  cc   d   e  ff   i  j   k   m   q  r   w   x\n",
              "A16                                                      \n",
              "+    19  62  29   7  14   7  14  3  14  16  51  2  33  32\n",
              "-    35  75  12  23  11  46  45  7  37  22  27  1  31   6"
            ]
          },
          "metadata": {
            "tags": []
          },
          "execution_count": 63
        }
      ]
    },
    {
      "cell_type": "code",
      "metadata": {
        "id": "FXtBZNn0fgTq",
        "colab_type": "code",
        "outputId": "a54d399f-a972-4d97-ed96-aeefdb8dfac6",
        "colab": {
          "base_uri": "https://localhost:8080/",
          "height": 142
        }
      },
      "source": [
        "# Create a cross tabulation of A7 and A16\n",
        "ctab7 = pd.crosstab(df['A16'],\n",
        "                    df['A7'])\n",
        "ctab7"
      ],
      "execution_count": 0,
      "outputs": [
        {
          "output_type": "execute_result",
          "data": {
            "text/html": [
              "<div>\n",
              "<style scoped>\n",
              "    .dataframe tbody tr th:only-of-type {\n",
              "        vertical-align: middle;\n",
              "    }\n",
              "\n",
              "    .dataframe tbody tr th {\n",
              "        vertical-align: top;\n",
              "    }\n",
              "\n",
              "    .dataframe thead th {\n",
              "        text-align: right;\n",
              "    }\n",
              "</style>\n",
              "<table border=\"1\" class=\"dataframe\">\n",
              "  <thead>\n",
              "    <tr style=\"text-align: right;\">\n",
              "      <th>A7</th>\n",
              "      <th>bb</th>\n",
              "      <th>dd</th>\n",
              "      <th>ff</th>\n",
              "      <th>h</th>\n",
              "      <th>j</th>\n",
              "      <th>n</th>\n",
              "      <th>o</th>\n",
              "      <th>v</th>\n",
              "      <th>z</th>\n",
              "    </tr>\n",
              "    <tr>\n",
              "      <th>A16</th>\n",
              "      <th></th>\n",
              "      <th></th>\n",
              "      <th></th>\n",
              "      <th></th>\n",
              "      <th></th>\n",
              "      <th></th>\n",
              "      <th></th>\n",
              "      <th></th>\n",
              "      <th></th>\n",
              "    </tr>\n",
              "  </thead>\n",
              "  <tbody>\n",
              "    <tr>\n",
              "      <th>+</th>\n",
              "      <td>25</td>\n",
              "      <td>2</td>\n",
              "      <td>8</td>\n",
              "      <td>87</td>\n",
              "      <td>3</td>\n",
              "      <td>2</td>\n",
              "      <td>1</td>\n",
              "      <td>169</td>\n",
              "      <td>6</td>\n",
              "    </tr>\n",
              "    <tr>\n",
              "      <th>-</th>\n",
              "      <td>34</td>\n",
              "      <td>4</td>\n",
              "      <td>49</td>\n",
              "      <td>51</td>\n",
              "      <td>5</td>\n",
              "      <td>2</td>\n",
              "      <td>1</td>\n",
              "      <td>230</td>\n",
              "      <td>2</td>\n",
              "    </tr>\n",
              "  </tbody>\n",
              "</table>\n",
              "</div>"
            ],
            "text/plain": [
              "A7   bb  dd  ff   h  j  n  o    v  z\n",
              "A16                                 \n",
              "+    25   2   8  87  3  2  1  169  6\n",
              "-    34   4  49  51  5  2  1  230  2"
            ]
          },
          "metadata": {
            "tags": []
          },
          "execution_count": 64
        }
      ]
    },
    {
      "cell_type": "code",
      "metadata": {
        "id": "LLDfhxmIfk0P",
        "colab_type": "code",
        "outputId": "40cf6b35-88fb-462f-be90-96f5027de786",
        "colab": {
          "base_uri": "https://localhost:8080/",
          "height": 142
        }
      },
      "source": [
        "# Obviously extreme difference on first glance\n",
        "\n",
        "# Create a cross tabulation of A9 and A16\n",
        "ctab9 = pd.crosstab(df['A16'],\n",
        "                    df['A9'])\n",
        "ctab9"
      ],
      "execution_count": 0,
      "outputs": [
        {
          "output_type": "execute_result",
          "data": {
            "text/html": [
              "<div>\n",
              "<style scoped>\n",
              "    .dataframe tbody tr th:only-of-type {\n",
              "        vertical-align: middle;\n",
              "    }\n",
              "\n",
              "    .dataframe tbody tr th {\n",
              "        vertical-align: top;\n",
              "    }\n",
              "\n",
              "    .dataframe thead th {\n",
              "        text-align: right;\n",
              "    }\n",
              "</style>\n",
              "<table border=\"1\" class=\"dataframe\">\n",
              "  <thead>\n",
              "    <tr style=\"text-align: right;\">\n",
              "      <th>A9</th>\n",
              "      <th>f</th>\n",
              "      <th>t</th>\n",
              "    </tr>\n",
              "    <tr>\n",
              "      <th>A16</th>\n",
              "      <th></th>\n",
              "      <th></th>\n",
              "    </tr>\n",
              "  </thead>\n",
              "  <tbody>\n",
              "    <tr>\n",
              "      <th>+</th>\n",
              "      <td>23</td>\n",
              "      <td>284</td>\n",
              "    </tr>\n",
              "    <tr>\n",
              "      <th>-</th>\n",
              "      <td>306</td>\n",
              "      <td>77</td>\n",
              "    </tr>\n",
              "  </tbody>\n",
              "</table>\n",
              "</div>"
            ],
            "text/plain": [
              "A9     f    t\n",
              "A16          \n",
              "+     23  284\n",
              "-    306   77"
            ]
          },
          "metadata": {
            "tags": []
          },
          "execution_count": 65
        }
      ]
    },
    {
      "cell_type": "code",
      "metadata": {
        "id": "VGqfhJUWfnMm",
        "colab_type": "code",
        "outputId": "d825b87f-09ec-4ecc-887e-b6ceaeb467fc",
        "colab": {
          "base_uri": "https://localhost:8080/",
          "height": 142
        }
      },
      "source": [
        "# Create a cross tabulation of A10 and A16\n",
        "ctab10 = pd.crosstab(df['A16'],\n",
        "                    df['A10'])\n",
        "ctab10"
      ],
      "execution_count": 0,
      "outputs": [
        {
          "output_type": "execute_result",
          "data": {
            "text/html": [
              "<div>\n",
              "<style scoped>\n",
              "    .dataframe tbody tr th:only-of-type {\n",
              "        vertical-align: middle;\n",
              "    }\n",
              "\n",
              "    .dataframe tbody tr th {\n",
              "        vertical-align: top;\n",
              "    }\n",
              "\n",
              "    .dataframe thead th {\n",
              "        text-align: right;\n",
              "    }\n",
              "</style>\n",
              "<table border=\"1\" class=\"dataframe\">\n",
              "  <thead>\n",
              "    <tr style=\"text-align: right;\">\n",
              "      <th>A10</th>\n",
              "      <th>f</th>\n",
              "      <th>t</th>\n",
              "    </tr>\n",
              "    <tr>\n",
              "      <th>A16</th>\n",
              "      <th></th>\n",
              "      <th></th>\n",
              "    </tr>\n",
              "  </thead>\n",
              "  <tbody>\n",
              "    <tr>\n",
              "      <th>+</th>\n",
              "      <td>98</td>\n",
              "      <td>209</td>\n",
              "    </tr>\n",
              "    <tr>\n",
              "      <th>-</th>\n",
              "      <td>297</td>\n",
              "      <td>86</td>\n",
              "    </tr>\n",
              "  </tbody>\n",
              "</table>\n",
              "</div>"
            ],
            "text/plain": [
              "A10    f    t\n",
              "A16          \n",
              "+     98  209\n",
              "-    297   86"
            ]
          },
          "metadata": {
            "tags": []
          },
          "execution_count": 66
        }
      ]
    },
    {
      "cell_type": "code",
      "metadata": {
        "id": "yFPKBrs3fpnC",
        "colab_type": "code",
        "outputId": "4d4a07f9-6501-4973-df49-8f161a0497ce",
        "colab": {
          "base_uri": "https://localhost:8080/",
          "height": 142
        }
      },
      "source": [
        "# Create a cross tabulation of A12 and A16\n",
        "ctab12 = pd.crosstab(df['A16'],\n",
        "                    df['A12'])\n",
        "ctab12"
      ],
      "execution_count": 0,
      "outputs": [
        {
          "output_type": "execute_result",
          "data": {
            "text/html": [
              "<div>\n",
              "<style scoped>\n",
              "    .dataframe tbody tr th:only-of-type {\n",
              "        vertical-align: middle;\n",
              "    }\n",
              "\n",
              "    .dataframe tbody tr th {\n",
              "        vertical-align: top;\n",
              "    }\n",
              "\n",
              "    .dataframe thead th {\n",
              "        text-align: right;\n",
              "    }\n",
              "</style>\n",
              "<table border=\"1\" class=\"dataframe\">\n",
              "  <thead>\n",
              "    <tr style=\"text-align: right;\">\n",
              "      <th>A12</th>\n",
              "      <th>f</th>\n",
              "      <th>t</th>\n",
              "    </tr>\n",
              "    <tr>\n",
              "      <th>A16</th>\n",
              "      <th></th>\n",
              "      <th></th>\n",
              "    </tr>\n",
              "  </thead>\n",
              "  <tbody>\n",
              "    <tr>\n",
              "      <th>+</th>\n",
              "      <td>161</td>\n",
              "      <td>146</td>\n",
              "    </tr>\n",
              "    <tr>\n",
              "      <th>-</th>\n",
              "      <td>213</td>\n",
              "      <td>170</td>\n",
              "    </tr>\n",
              "  </tbody>\n",
              "</table>\n",
              "</div>"
            ],
            "text/plain": [
              "A12    f    t\n",
              "A16          \n",
              "+    161  146\n",
              "-    213  170"
            ]
          },
          "metadata": {
            "tags": []
          },
          "execution_count": 67
        }
      ]
    },
    {
      "cell_type": "code",
      "metadata": {
        "id": "UrYjxDbAfsQg",
        "colab_type": "code",
        "outputId": "4c991e52-459a-48ab-b64a-5886531f172b",
        "colab": {
          "base_uri": "https://localhost:8080/",
          "height": 142
        }
      },
      "source": [
        "# Create a cross tabulation of A13 and A16\n",
        "ctab13 = pd.crosstab(df['A16'],\n",
        "                    df['A13'])\n",
        "ctab13"
      ],
      "execution_count": 0,
      "outputs": [
        {
          "output_type": "execute_result",
          "data": {
            "text/html": [
              "<div>\n",
              "<style scoped>\n",
              "    .dataframe tbody tr th:only-of-type {\n",
              "        vertical-align: middle;\n",
              "    }\n",
              "\n",
              "    .dataframe tbody tr th {\n",
              "        vertical-align: top;\n",
              "    }\n",
              "\n",
              "    .dataframe thead th {\n",
              "        text-align: right;\n",
              "    }\n",
              "</style>\n",
              "<table border=\"1\" class=\"dataframe\">\n",
              "  <thead>\n",
              "    <tr style=\"text-align: right;\">\n",
              "      <th>A13</th>\n",
              "      <th>g</th>\n",
              "      <th>p</th>\n",
              "      <th>s</th>\n",
              "    </tr>\n",
              "    <tr>\n",
              "      <th>A16</th>\n",
              "      <th></th>\n",
              "      <th></th>\n",
              "      <th></th>\n",
              "    </tr>\n",
              "  </thead>\n",
              "  <tbody>\n",
              "    <tr>\n",
              "      <th>+</th>\n",
              "      <td>287</td>\n",
              "      <td>5</td>\n",
              "      <td>15</td>\n",
              "    </tr>\n",
              "    <tr>\n",
              "      <th>-</th>\n",
              "      <td>338</td>\n",
              "      <td>3</td>\n",
              "      <td>42</td>\n",
              "    </tr>\n",
              "  </tbody>\n",
              "</table>\n",
              "</div>"
            ],
            "text/plain": [
              "A13    g  p   s\n",
              "A16            \n",
              "+    287  5  15\n",
              "-    338  3  42"
            ]
          },
          "metadata": {
            "tags": []
          },
          "execution_count": 68
        }
      ]
    },
    {
      "cell_type": "markdown",
      "metadata": {
        "id": "LYMzvDcDmgMF",
        "colab_type": "text"
      },
      "source": [
        "## Chi Squared Tests"
      ]
    },
    {
      "cell_type": "code",
      "metadata": {
        "id": "SvqVfSaamRQ2",
        "colab_type": "code",
        "outputId": "ce7973a0-7398-4e56-bd2f-00266bac7234",
        "colab": {
          "base_uri": "https://localhost:8080/",
          "height": 119
        }
      },
      "source": [
        "# Extremely different looking values\n",
        "chi_squared, p_value, dof, expected = stats.chi2_contingency(ctab9)\n",
        "print(f\"Chi-Squared: {chi_squared}\")\n",
        "print(f\"P-value: {p_value}\")\n",
        "print(f\"Degrees of Freedom: {dof}\") \n",
        "print(\"Expected: \\n\", np.array(expected))"
      ],
      "execution_count": 0,
      "outputs": [
        {
          "output_type": "stream",
          "text": [
            "Chi-Squared: 355.2038167412799\n",
            "P-value: 3.1185900878457007e-79\n",
            "Degrees of Freedom: 1\n",
            "Expected: \n",
            " [[146.38115942 160.61884058]\n",
            " [182.61884058 200.38115942]]\n"
          ],
          "name": "stdout"
        }
      ]
    },
    {
      "cell_type": "code",
      "metadata": {
        "id": "RrlOYWgEmyHG",
        "colab_type": "code",
        "outputId": "54d45d9a-4a46-4ac1-b3b7-c71580380eba",
        "colab": {
          "base_uri": "https://localhost:8080/",
          "height": 119
        }
      },
      "source": [
        "# Similar looking values\n",
        "chi_squared, p_value, dof, expected = stats.chi2_contingency(ctab5)\n",
        "print(f\"Chi-Squared: {chi_squared}\")\n",
        "print(f\"P-value: {p_value}\")\n",
        "print(f\"Degrees of Freedom: {dof}\") \n",
        "print(\"Expected: \\n\", np.array(expected))"
      ],
      "execution_count": 0,
      "outputs": [
        {
          "output_type": "stream",
          "text": [
            "Chi-Squared: 26.234074966202144\n",
            "P-value: 2.010680204180363e-06\n",
            "Degrees of Freedom: 2\n",
            "Expected: \n",
            " [[229.90789474   0.88596491  72.20614035]\n",
            " [289.09210526   1.11403509  90.79385965]]\n"
          ],
          "name": "stdout"
        }
      ]
    },
    {
      "cell_type": "code",
      "metadata": {
        "id": "z1DikTNNxi6g",
        "colab_type": "code",
        "colab": {}
      },
      "source": [
        "# Fucntion for Chi-squared tests\n",
        "def custom_chi2(variable):\n",
        "  # Throw error exception if the variable is not categorical\n",
        "  if(df[variable].dtypes!=object):\n",
        "    return print(variable,\" is not a categorical variable\")\n",
        "  \n",
        "  temp_ctab = pd.crosstab(df['A16'],\n",
        "                    df[variable])\n",
        "  chi_squared, p_value, dof, expected = stats.chi2_contingency(temp_ctab)\n",
        "  return (print(f\"Chi-Squared: {chi_squared}\"),\n",
        "          print(f\"P-value: {p_value}\"),\n",
        "          print(f\"Degrees of Freedom: {dof}\"),\n",
        "          print(\"Expected: \\n\", np.array(expected)))"
      ],
      "execution_count": 0,
      "outputs": []
    },
    {
      "cell_type": "code",
      "metadata": {
        "id": "xoLRCxn-y-SS",
        "colab_type": "code",
        "outputId": "9cc41730-cce1-46fd-cc7c-5ee8c56a6034",
        "colab": {
          "base_uri": "https://localhost:8080/",
          "height": 136
        }
      },
      "source": [
        "# test function\n",
        "custom_chi2('A5')"
      ],
      "execution_count": 0,
      "outputs": [
        {
          "output_type": "stream",
          "text": [
            "Chi-Squared: 26.234074966202144\n",
            "P-value: 2.010680204180363e-06\n",
            "Degrees of Freedom: 2\n",
            "Expected: \n",
            " [[229.90789474   0.88596491  72.20614035]\n",
            " [289.09210526   1.11403509  90.79385965]]\n"
          ],
          "name": "stdout"
        },
        {
          "output_type": "execute_result",
          "data": {
            "text/plain": [
              "(None, None, None, None)"
            ]
          },
          "metadata": {
            "tags": []
          },
          "execution_count": 125
        }
      ]
    },
    {
      "cell_type": "code",
      "metadata": {
        "id": "N0W-epWSzYdO",
        "colab_type": "code",
        "outputId": "ff9cbdc5-2ece-49ca-eb61-98628ee3ee70",
        "colab": {
          "base_uri": "https://localhost:8080/",
          "height": 34
        }
      },
      "source": [
        "# Test error exception\n",
        "custom_chi2('A2')"
      ],
      "execution_count": 0,
      "outputs": [
        {
          "output_type": "stream",
          "text": [
            "A2  is not a categorical variable\n"
          ],
          "name": "stdout"
        }
      ]
    },
    {
      "cell_type": "markdown",
      "metadata": {
        "id": "ZM8JckA2bgnp",
        "colab_type": "text"
      },
      "source": [
        "## Part 3 - Analysis and Interpretation\n",
        "\n",
        "Now that you've looked at the data, answer the following questions:\n",
        "\n",
        "- Interpret and explain the two t-tests you ran - what do they tell you about the relationships between the continuous features you selected and the class labels?\n",
        "- Interpret and explain the two Chi-squared tests you ran - what do they tell you about the relationships between the categorical features you selected and the class labels?\n",
        "- What was the most challenging part of this sprint challenge?\n",
        "\n",
        "Answer with text, but feel free to intersperse example code/results or refer to it from earlier."
      ]
    },
    {
      "cell_type": "markdown",
      "metadata": {
        "id": "LIozLDNG2Uhu",
        "colab_type": "text"
      },
      "source": [
        "1)\n",
        "In the two t-tests that I ran I compared the mean values for a single variable (A11 and A14) when the value of the class label was '+' or '-'. The test determined whether or not the mean of A11 is significantly different when the class label changes.\n",
        "\n",
        "In the case of A11, we reject the null hypothesis that the mean values of A11 is equal for both values of the class label. Looking at the t-statistic, 11.667004222431277, we can conclude that the mean value of A11 is significantly higher with a positive class label than with a negative label. The extremely small p-value, 7.957718568079967e-29, is below our 95% confidence threshold of 0.05 so we conclude that these results are statistically significant.\n",
        "\n",
        "In the case of A14, we also reject the null hypothesis that the mean values of A14 is equal for both values of the class label. Looking at the t-statistic, -2.6358251986645476, we can conclude that the mean value of A14 is significantly lower with a positive class label than with a negative label. The p-value, 0.008586135473979569, is below our 95% confidence threshold of 0.05 so we conclude that these results are statistically significant.\n",
        "\n",
        "2)\n",
        "In the two Chi-squared test that I ran I sought to determine whether or not two variables are independent. In this case I looked at the relationships between A9 and A16, and A5 and A16. In other words, I looked at whether the values of A9 and A5 are dependent on the value of A16 or vice versa. \n",
        "\n",
        "In the case of A9 and A16, we reject the null hypothesis that the values are independent due to the extremely small p-value, 3.1185900878457007e-79. This is below our 95% confidence threshold of 0.05.\n",
        "\n",
        "In the case of A5 and A16, we also reject the null hypothesis that the values are independent due to the extremely small p-value, 2.010680204180363e-06. This is below our 95% confidence threshold of 0.05.\n",
        "\n",
        "3)\n",
        "The most challenging part of the sprint challenge was doing the visualizations. At first I wasn't really sure how to best visualize the relationships as a lead up to t-tests and Chi-squared tests but I think I did a good job in the end."
      ]
    },
    {
      "cell_type": "markdown",
      "metadata": {
        "id": "XOequK5xpVz7",
        "colab_type": "text"
      },
      "source": [
        "# Stretch Goals: \n",
        "Do these to get a 3. These are not required in order to pass the Sprint Challenge.\n",
        "\n",
        "## Part 1: \n",
        "\n",
        "Make sure that all of your dataframe columns have the appropriate data types. *Hint:* If a column has the datatype of \"object\" even though it's made up of float or integer values, you can coerce it to act as a numeric column by using the `pd.to_numeric()` function. In order to get a 3 on this section make sure that your data exploration is particularly well commented, easy to follow, and thorough.\n",
        "\n",
        "## Part 2:\n",
        "\n",
        "Write functions that can calculate t-tests and chi^2 tests on all of the appropriate column combinations from the dataset. (Remember that certain tests require certain variable types.)\n",
        "\n",
        "## Part 3: \n",
        "\n",
        "Calculate and report confidence intervals on your most important mean estimates (choose at least two). Make some kind of a graphic or visualization to help us see visually how precise these estimates are."
      ]
    },
    {
      "cell_type": "code",
      "metadata": {
        "id": "NT37grnxqa05",
        "colab_type": "code",
        "colab": {}
      },
      "source": [
        "# You can work the stretch goals down here or back up in their regular sections\n",
        "# just make sure that they are labeled so that we can easily differentiate\n",
        "# your main work from the stretch goals."
      ],
      "execution_count": 0,
      "outputs": []
    }
  ]
}